{
 "cells": [
  {
   "cell_type": "markdown",
   "metadata": {},
   "source": [
    "## Problemas para practicar\n",
    "\n",
    "Son opcionales, el tiempo aproximado para resolver este tipo de problemas es de 20 minutos."
   ]
  },
  {
   "cell_type": "markdown",
   "metadata": {},
   "source": [
    "### Integrar la ecuación de diseño de un reactor batch\n",
    "\n",
    "Para un reactor batch con volumen constante donde ocurre la reacción:  $A \\rightarrow B$ con una rapidez de reacción: $-r_A = kC_A^2$, se obtuvo la siguiente ecuación de diseño para el tiempo necesario para alcanzar una conversión.\n",
    "\n",
    "$t(X) = \\frac{1}{k C_{A0}} \\int_{X=0}^X \\frac{dX}{(1-X)^2}$\n",
    "\n",
    "si $k = 10^{-3}$ L/mol s y $C_{A0} = 1$,ol/, estimar el tiempo necesario para llegar a un 90% de conversión.\n",
    "\n",
    "*La respuesta es 9000 segundos*"
   ]
  },
  {
   "cell_type": "code",
   "execution_count": null,
   "metadata": {},
   "outputs": [],
   "source": []
  },
  {
   "cell_type": "markdown",
   "metadata": {},
   "source": [
    "### Integrar ecuación de capacidad calorífica\n",
    "\n",
    "Sabemos que la capacidad calorífica se define cómo: $C_p=\\left(\\frac{dH}{dT}\\right)_P$.  A partir de esta definición podemos calcular la energía necesaria para cambiar la temperatura de algún material de la forma siguiente:\n",
    "\n",
    "$H_2 - H_1 = Q = \\int_{T_1}^{T_2} C_p(T) dT$\n",
    "\n",
    "Para el rango de 298 a 1200K, el $C_p$ de CO<sub>2</sub> esta dado por [polinomio Shomate](https://webbook.nist.gov/cgi/cbook.cgi?ID=C124389&Units=SI&Mask=1#Thermo-Gas):\n",
    "\n",
    "$C_p(t) = A + B t + C t^2 + D t^3 + E/t^2$ con unidades de J/molK\n",
    "\n",
    "donde:\n",
    "- t=temperatura(K)/1000\n",
    "\n",
    "Constantes:\n",
    "\n",
    "| |valor|\n",
    "|---|---|\n",
    "| A|24.99735|\n",
    "| B|55.18696|\n",
    "| C|-33.69137|\n",
    "| D|7.948387|\n",
    "| E|-0.136638|\n",
    "| F|-403.6075|\n",
    "| G|228.2431|\n",
    "| H|-393.5224|\n",
    "\n",
    "Usa esta información para obtener la energía necesaria (en kJ/mol) para elevear la temperatura de CO<sub>2</sub> de 300K a 600K. Se aconseja utilizar `scipy.integrate.quad` para realizar la integral\n",
    "\n",
    "*El cambio en la entalpía es de 12.941 kJ/mol.*"
   ]
  },
  {
   "cell_type": "code",
   "execution_count": null,
   "metadata": {},
   "outputs": [],
   "source": []
  },
  {
   "cell_type": "markdown",
   "metadata": {},
   "source": [
    "### Estadística\n",
    "\n",
    "La función de una distribución normal es:\n",
    "\n",
    "$f(x) = \\frac{1}{\\sigma \\sqrt{2 \\pi}} e^{-0.5 (x - \\mu)^2/\\sigma^2}$\n",
    "\n",
    "En esta ecuación &mu; es la media, &sigma; es la desviación estándar. Para este problema definamos &mu;=0, &sigma;=1.\n",
    "\n",
    "Una propiedad de una distribución normal es $\\int_{-\\infty}^{\\infty}  f(x) dx = 1$. Muestra que esto es cierto computando la integral."
   ]
  },
  {
   "cell_type": "code",
   "execution_count": null,
   "metadata": {},
   "outputs": [],
   "source": []
  },
  {
   "cell_type": "markdown",
   "metadata": {},
   "source": [
    "Se sabe que en una distribución normal &plusmn; 2&sigma; representa cerca del 95% de la distribución. La tarea es encontrar el valor para $x$ que representa el 95% del área de la distribución. Comparar con la regla de dedo en estadística.\n",
    "\n",
    "$0.95 = \\int_{-x}^{x} f(x) dx$\n",
    "\n",
    "*Pista, el valor de x está cerca de 2*"
   ]
  },
  {
   "cell_type": "code",
   "execution_count": null,
   "metadata": {},
   "outputs": [],
   "source": []
  },
  {
   "cell_type": "markdown",
   "metadata": {},
   "source": [
    "El promedio de una distribución continua esta definido como: $\\mu = \\int_{-\\infty}^{\\infty} x f(x) dx$. Muestra que el promedio de la distribución normal definida anteriormente es cero evaluando esta integral."
   ]
  },
  {
   "cell_type": "code",
   "execution_count": null,
   "metadata": {},
   "outputs": [],
   "source": []
  },
  {
   "cell_type": "markdown",
   "metadata": {},
   "source": [
    "La varianza, $\\sigma^2$ está definida como: $\\sigma^2 = \\int_{-\\infty}^{\\infty} (x - \\mu)^2 f(x) dx$. Muestra que la varianza de la distribución normal definida anteriormente es uno evaluando la integral. Nota &mu;=0 definida anteriormente."
   ]
  },
  {
   "cell_type": "code",
   "execution_count": null,
   "metadata": {},
   "outputs": [],
   "source": []
  }
 ],
 "metadata": {
  "kernelspec": {
   "display_name": "Python 3",
   "language": "python",
   "name": "python3"
  },
  "language_info": {
   "codemirror_mode": {
    "name": "ipython",
    "version": 3
   },
   "file_extension": ".py",
   "mimetype": "text/x-python",
   "name": "python",
   "nbconvert_exporter": "python",
   "pygments_lexer": "ipython3",
   "version": "3.12.0"
  }
 },
 "nbformat": 4,
 "nbformat_minor": 2
}
