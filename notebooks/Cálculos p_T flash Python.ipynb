{
 "cells": [
  {
   "attachments": {
    "image.png": {
     "image/png": "[encoded data removed]"
    }
   },
   "cell_type": "markdown",
   "metadata": {},
   "source": [
    "# Cálculos Flash\n",
    "\n",
    "![image.png](attachment:image.png)\n",
    "\n",
    "Os cálculos de flash úsanse para procesos de equilibrio vapor/líquido (VLE). Un proceso típico que require cálculos de flash, é o representado na figura 1. Un caudal de alimentación dunha mestura de compoñentes $F$ se separada nun vapor $V$ e un líquido $L$.\n",
    "\n",
    "En principio, os cálculos de flash son sinxelos e implican combinar o as ecuacións do equilibrio líquido-vapor cos balances de materia dos compoñentes da mestura e, nalgúns casos, o balance de enerxía.\n",
    "\n",
    "Algúns cálculos de flash son:\n",
    "1. Punto de burbulla a unha temperatura $T$ dada (fácil).\n",
    "2. Punto de burbulla a unha presión $p$ dada (supón facer un cálculo iterativo en T).\n",
    "3. Punto de orballo a unha temperatura $T$ dada (fácil).\n",
    "4. Punto de orballo a una presión $p$ dada (supón facer un cálculo iterativo en T).\n",
    "5. Flash dadas $p$ e $T$ (relativamente fácil).\n",
    "6. Flash dadas $p$ e $H$ (flash \"estándar\", por exemplo, para un tanque flash colocado despois dunha válvula).\n",
    "7. Flash dadas $p$ e $S$ (por exemplo, para a turbina de condensación).\n",
    "8. Flash dadas $U$ e $V$ (por exemplo, para a simulación dinámica dun tanque adiabático).\n",
    "\n",
    "Os tres últimos flashes son un pouco máis complicados xa que requiren o cálculodo balance de enerxía e as relacións de equilibrio para o cálculo de $H$, $S$, etc. \n",
    "\n",
    "Nos exemplos de cálculos flash que se propoñen aquí, supoñemos que o equilibrio entre o líquido e o vapor (VLE) está dado en forma de valores _K_, é dicir:\n",
    "é dicir,\n",
    "  \n",
    "$$\n",
    "y_i=K_ix_i\n",
    "$$\n",
    "  \n",
    "onde $y_i$ son as fraccións molares da fase vapor e $x_i$ as fraccións molares da fase líquida para\n",
    "cada compoñente $i$. En xeral, o $K$ depende da temperatura $T$, presión $p$ e composición (tanto $x_i$ como $y_i$). Supondremos que as mesturas son ideais e utilizaremos a **Lei de Raoult**:\n",
    "  \n",
    "$$\n",
    "K_i = \\frac {p_i^{sat}(T)} {p}\n",
    "$$\n",
    "  \n",
    "Neste caso $K_i$ dependen só de $T$ e $p$:\n",
    "\n",
    "\n",
    "Nos exemplos, calculamos a presión de vapor ou presión de saturación, $p_i^{sat}(T)$, usando os parámetros de **Antoine** indicados na táboa 1.\n",
    "\n",
    "indicado na táboa 7.2.Onde yi é a fracción de mole en fase de vapor e xi a fracción de mol de fase líquida para\n",
    "compoñente i. En xeral, o \"valor K\" depende da temperatura T, presión p e composición (tanto xi como yi). Aceptamos principalmente mesturas ideais e utilizamos a **lei de Raoult**:\n",
    "Neste caso $K_i$ depende de $T$ e $p$ só. A lei de Raoult:\n",
    "  \n",
    "$$\n",
    "Ki = psat_i (T) / p\n",
    "$$\n",
    "  \n",
    "Nos exemplos, calculamos o psat de presión de vapor ($T$) usando os **parámetros de Antoine** dados na táboa 1.\n",
    "\n",
    "Táboa 1: Datos das constantes de **Antoine**, temperatura de fervura e entalpía de vaporización para resolver os problemas. A os valores das constantes da **Ecuación de Antoine** en esta táboa son para as presións de vapor expresadas en bar, as temperaturas en K e as entalpías en J/mol.\n",
    "\n",
    "| Composto | A | B | C | T<sub>b</sub> (K) | $\\Delta$ H<sub>vap</sub> | \n",
    "|:-----------|-------------|------------|------------|---------------|---------------|\n",
    "| Pentano (C<sub>5</sub>H<sub>12</sub>) | 3.97786 | 1064.840 | -41.136 | 309.22 | 25790 |\n",
    "| Hexano (C<sub>6</sub>H<sub>14</sub>) | 4.00139 | 1170.875 | -48.833 | 341.88 | 28850 |\n",
    "| Ciclohexano (C<sub>6</sub>H<sub>12</sub>) | 3.93002 | 1182.774 | -52.532 | 353.93 | 29970 |\n",
    "| Metanol (CH<sub>3</sub>OH) | 5.20277 | 1580.080 | -33.650 | 337.69 | 35210 |\n",
    "| Auga (H<sub>2</sub>O) | 5.11564 | 1687.537 | -42.98 | 373.15 | 40660 |\n",
    "| Amoníaco (NH<sub>3</sub>) | 4.48540 | 926.132 | -32.98 | 239.82 | 23350 |\n",
    "| Propano (C<sub>3</sub>H<sub>8</sub>) | 3.92828 | 803.997 | -26.11 | 231.02 | 19040 |\n",
    "| Octano (C<sub>8</sub>H<sub>18</sub>) | 4.05075 | 1356.360 | -63.515 | 398.82 | 34410 |\n",
    "| Dodecano (C<sub>12</sub>H<sub>26</sub>) | 4.12285 | 1639.270 | -91.310 | 489.48 | 43400 |\n",
    "| Benceno (C<sub>6</sub>H<sub>6</sub>) | 3.98523 | 1184.24 | -55.578 | 353.24 | 30720 |\n",
    "| Tolueno (C<sub>7</sub>H<sub>8</sub>) | 4.05043 | 1327.62 | -55.525 | 383.79 | 33180 |\n",
    "  \n",
    "  \n",
    "<small>\n",
    "Táboa 1: Datos das constantes de **Antoine**, temperrtura de fervura e entalpía de vaporización para resolver os problemas. A os valores das constantes da **Ecuación de Antoine** en esta táboa son para as presións de vapor expresadas en bar, as temperaturas en K e as entalpías en J/mol.\n",
    "</small>\n",
    "\n",
    "## Cálculos de puntos de burbulla\n",
    "\n",
    "Consideremos primeiro os cálculos de punto de burbulla, neste caso dannos a composición da fase líquida $x_i$ (corresponde ao caso en que V é moi pequena (V $\\geq$ 0) e $x_i$ = $z_i$ na Figura 1). \n",
    "\n",
    "O punto de burbulla dun líquido é o punto no que o líquido xusto comeza a evaporarse (ferver), é dicir, cando se forma a primeira burbulla de vapor. Se coñecemos a temperatura, entón debemos baixar a presión ata que se forme a primeira burbulla. Se coñecemos a presión. debemos aumentar a temperatura ata que se forme a primeira burbulla. Nos dous casos, isto corresponde axustar $T$ ou $p$ ata que a suma das fraccións de vapor de todos os compoñenetes sea a unidade, $\\sum y_i$ = 1 ou:\n",
    "  \n",
    "$$\n",
    "\\sum K_i x_i = 1\n",
    "$$\n",
    "\n",
    "onde as $x_i$ son ceñecidas. Para o caso ideal, no que se cumpre a __Lei de Raoult__:\n",
    "  \n",
    "$$\n",
    "\\Sigma_{i} \\underbrace{x_{i} p_{i}^{\\text {siat }}(T)}_{p_{i}}=p\n",
    "$$"
   ]
  },
  {
   "cell_type": "markdown",
   "metadata": {},
   "source": [
    "## Exemplo 1. Punto de burbulla a unha temperatura dada.\n",
    "\n",
    "### Enunciado \n",
    "Unha mestura líquida contén 50% de moles de pentan, 30% de moles de hexano e 20% de moles de ciclohexano. Calcular a presión do punto de burbulla cando, á temperatura constante de $T$ = 400 K, se reduce progresivamente a presión. Cal é a presión da primeira burbulla que se fiorma e a composición do primero vapor que se forma supoñendo comportamento ideal (__Lei de Raoult__).\n",
    "\n",
    "### Solución\n",
    "Debemos atopar a $p$ que satisfai a ecucaión:\n",
    "  \n",
    "$$\n",
    "\\Sigma_{i} \\underbrace{x_{i} p_{i}^{\\text {siat }}(T)}_{p_{i}}=p\n",
    "$$\n",
    "  \n",
    "Empezamos calculando a presi´n de vapor de cada compoñente da mestura.\n",
    "\n"
   ]
  },
  {
   "cell_type": "code",
   "execution_count": 170,
   "metadata": {},
   "outputs": [],
   "source": [
    "# Datos\n",
    "\n",
    "T             = 400 # K\n",
    "\n",
    "A_pentano     = 3.97786\n",
    "B_pentano     = 1064.840\n",
    "C_pentano     = -41.136\n",
    "A_hexano      =  4.00139\n",
    "B_hexano      = 1170.875\n",
    "C_hexano      = -48.833\n",
    "A_ciclohexano = 3.93002\n",
    "B_ciclohexano = 1182.774\n",
    "C_ciclohexano = -52.532\n",
    "\n",
    "x_pentano     = 0.5\n",
    "x_hexano      = 0.3\n",
    "x_ciclohexano = 0.2"
   ]
  },
  {
   "cell_type": "code",
   "execution_count": 171,
   "metadata": {},
   "outputs": [
    {
     "name": "stdout",
     "output_type": "stream",
     "text": [
      "Presión de saturación do pentano     =  10.2473 a 400 K\n",
      "Presión de saturación do hexano      =   4.6468 a 400 K\n",
      "Presión de saturación do ciclohexano =   3.3577 a 400 K =\n"
     ]
    }
   ],
   "source": [
    "p_sat_pentano     = 10 ** (A_pentano - B_pentano / ( T + C_pentano)) \n",
    "p_sat_hexano      = 10 ** (A_hexano - B_hexano / ( T + C_hexano)) \n",
    "p_sat_ciclohexano = 10 ** (A_ciclohexano - B_ciclohexano / ( T + C_ciclohexano)) \n",
    "\n",
    "print('Presión de saturación do pentano     = {:8.4f} a {:d} K'.format(p_sat_pentano, T))\n",
    "print('Presión de saturación do hexano      = {:8.4f} a {:d} K'.format(p_sat_hexano, T))\n",
    "print('Presión de saturación do ciclohexano = {:8.4f} a {:d} K ='.format(p_sat_ciclohexano, T))"
   ]
  },
  {
   "cell_type": "code",
   "execution_count": 172,
   "metadata": {},
   "outputs": [
    {
     "name": "stdout",
     "output_type": "stream",
     "text": [
      "Presión de burbulla a 400 K = 7.1892 bar\n"
     ]
    }
   ],
   "source": [
    "# presións de vapor\n",
    "p_pentano     = x_pentano     * p_sat_pentano\n",
    "p_hexano      = x_hexano      * p_sat_hexano\n",
    "p_ciclohexano = x_ciclohexano * p_sat_ciclohexano\n",
    "\n",
    "p_burbulla = p_pentano + p_hexano + p_ciclohexano\n",
    "\n",
    "print('Presión de burbulla a {:2d} K = {:.4f} bar'.format(T,p_burbulla))"
   ]
  },
  {
   "cell_type": "markdown",
   "metadata": {},
   "source": [
    "No punto de burbulla a fase líquida ten unha composición coñecida (os datos do problema). Polo tanto, aplicando __Raoult__, a presión de vapor de cada compoñente é:\n",
    "  \n",
    "$$\n",
    "p_{pentano} = x_{pentano} \\cdot p_{pentano}^{sat} \\\\\n",
    "p_{hexano} = x_{hexano} \\cdot p_{hexano}^{sat} \\\\\n",
    "p_{ciclohexano} = x_{ciclohexano} \\cdot p_{ciclohexano}^{sat}\n",
    "$$\n",
    "\n",
    "E a presión total:\n",
    "  \n",
    "$$\n",
    "p_{burbulla} = p_{pentano} + p_{hexano} + p_{ciclohexano}\n",
    "$$"
   ]
  },
  {
   "cell_type": "code",
   "execution_count": 173,
   "metadata": {},
   "outputs": [
    {
     "name": "stdout",
     "output_type": "stream",
     "text": [
      "y_pentano      = 0.7127\n",
      "y_hexano       = 0.1939\n",
      "y_ciclohexano  = 0.0934\n"
     ]
    }
   ],
   "source": [
    "# Cálculo das yi\n",
    "\n",
    "y_pentano     = p_pentano     / p_burbulla\n",
    "y_hexano      = p_hexano      / p_burbulla\n",
    "y_ciclohexano = p_ciclohexano / p_burbulla\n",
    "\n",
    "print('y_pentano      = {:6.4f}'.format(y_pentano))\n",
    "print('y_hexano       = {:6.4f}'.format(y_hexano))\n",
    "print('y_ciclohexano  = {:6.4f}'.format(y_ciclohexano))"
   ]
  },
  {
   "cell_type": "markdown",
   "metadata": {},
   "source": [
    "Se podería sofisticar un pouco mais o código facendo uso do diccionario de datos e das funcións anónimas de ```python```, as funcións lamba. Fagamos o mesmo cálculo"
   ]
  },
  {
   "cell_type": "code",
   "execution_count": 174,
   "metadata": {},
   "outputs": [],
   "source": [
    "compostos = ['pentano','hexano','ciclohexano']\n",
    "\n",
    "Psat = dict()\n",
    "Psat['pentano']     = lambda T: 10**(3.97786 - 1064.840/(-41.136 + T))  # log p en mar T en ºC  \n",
    "Psat['hexano']      = lambda T: 10**(4.00139 - 1170.875/(-48.833 + T)) # log p en mar T en ºC\n",
    "Psat['ciclohexano'] = lambda T: 10**(3.93002 - 1182.774/(-52.532 + T))  # log p en mar T en ºC\n",
    "species = ['acetone','benzene','toluene']\n",
    "z = dict()\n",
    "z['pentano'] = 0.5\n",
    "z['hexano'] = 0.3\n",
    "z['ciclohexano'] = 0.2"
   ]
  },
  {
   "cell_type": "code",
   "execution_count": 175,
   "metadata": {},
   "outputs": [],
   "source": [
    "# Como calculamos puntos de burbulla\n",
    "x = z\n",
    "x[s] = z[s]"
   ]
  },
  {
   "cell_type": "code",
   "execution_count": 176,
   "metadata": {},
   "outputs": [
    {
     "name": "stdout",
     "output_type": "stream",
     "text": [
      "Presión de vapor do pentano = 5.12 bar\n",
      "Presión de vapor do hexano = 1.39 bar\n",
      "Presión de vapor do ciclohexano = 0.67 bar\n",
      "Presión de burbulla a 400 K = 7.1892 bar\n"
     ]
    }
   ],
   "source": [
    "T = 400 # K\n",
    "Pbub =sum([x[s]*Psat[s](T) for s in compostos])\n",
    "for s in compostos:\n",
    "    print(f'Presión de vapor do {s} = {x[s]*Psat[s](T):.2f} bar')\n",
    "\n",
    "print('Presión de burbulla a {:2d} K = {:.4f} bar'.format(T,Pbub))    "
   ]
  },
  {
   "cell_type": "code",
   "execution_count": 180,
   "metadata": {},
   "outputs": [
    {
     "name": "stdout",
     "output_type": "stream",
     "text": [
      "Fracción molar no vapor de pentano = 0.7127\n",
      "Fracción molar no vapor de hexano = 0.1939\n",
      "Fracción molar no vapor de ciclohexano = 0.0934\n"
     ]
    }
   ],
   "source": [
    "for s in compostos:\n",
    "    print(f'Fracción molar no vapor de {s} = {x[s]*Psat[s](T)/Pbub:.4f}')"
   ]
  },
  {
   "cell_type": "markdown",
   "metadata": {},
   "source": [
    "### Exemplo 2. Punto de burbulla a presión dada.\n",
    "\n",
    "Considere a mesma mestura líquida cun 50% molar de pentano, un 30% molar de hexano (2) e un 20% molar de ciclohexano (3). A $p$ = 5 bar, aumenta gradualmente a temperatura. Cal é a temperatura e a composición da burbulla do primeiro vapor que se forma?."
   ]
  },
  {
   "cell_type": "markdown",
   "metadata": {},
   "source": [
    "### Solución.\n",
    "\n",
    "Neste caso, $p$ e $x_i$ coñécense. a ecuación:\n",
    "  \n",
    "$$\n",
    "\\Sigma_{i} \\underbrace{x_{i} p_{i}^{\\text {siat }}(T)}_{p_{i}}=p\n",
    "$$\n",
    "  \n",
    "se convirte en unha ecuación implícita en $T$ que ten que ser resolta por un método numérico comp pode ser unha iteración. No noso caso usaremos unha librería de python."
   ]
  }
 ],
 "metadata": {
  "kernelspec": {
   "display_name": "Python 3.9.1 64-bit ('sopq': conda)",
   "metadata": {
    "interpreter": {
     "hash": "d80a3c6c7be034337bdb0b718781156f9c333a90682a83bd84643990f235ba7b"
    }
   },
   "name": "python3"
  },
  "language_info": {
   "codemirror_mode": {
    "name": "ipython",
    "version": 3
   },
   "file_extension": ".py",
   "mimetype": "text/x-python",
   "name": "python",
   "nbconvert_exporter": "python",
   "pygments_lexer": "ipython3",
   "version": "3.12.0"
  }
 },
 "nbformat": 4,
 "nbformat_minor": 4
}
