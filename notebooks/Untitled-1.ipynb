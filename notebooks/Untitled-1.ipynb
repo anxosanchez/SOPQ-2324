{
 "cells": [
  {
   "cell_type": "code",
   "execution_count": 1,
   "metadata": {},
   "outputs": [],
   "source": [
    "import numpy as np"
   ]
  },
  {
   "cell_type": "code",
   "execution_count": 4,
   "metadata": {},
   "outputs": [],
   "source": [
    "pentano     = {\"A\":3.97786,\"B\":1064.840,\"C\":41.136}\n",
    "hexano      = {\"A\":4.00139,\"B\":1170.875,\"C\":-48.833}\n",
    "ciclohexano = {\"A\":3.93002,\"B\":1182.774,\"C\":-52.532}\n",
    "metanol     = {\"A\":5.20277,\"B\":1580.080,\"C\":-33.650}\n",
    "auga        = {\"A\":5.11564,\"B\":1687.537,\"C\":-42.98}\n",
    "amoniaco    = {\"A\":4.48540,\"B\":926.132,\"C\":-32.98}\n",
    "propano     = {\"A\":3.92828,\"B\":803.997,\"C\":-26.11}\n",
    "octano      = {\"A\":4.05075,\"B\":1356.360,\"C\":-63.515}\n",
    "dodecano    = {\"A\":4.12285,\"B\":1639.270,\"C\":-91.310}\n",
    "benceno     = {\"A\":3.98523,\"B\":1184.24,\"C\":-55.578}\n",
    "tolueno     = {\"A\":4.05043,\"B\":1327.62,\"C\":-55.525}\n"
   ]
  },
  {
   "cell_type": "code",
   "execution_count": 9,
   "metadata": {},
   "outputs": [
    {
     "data": {
      "text/plain": [
       "-63.515"
      ]
     },
     "execution_count": 9,
     "metadata": {},
     "output_type": "execute_result"
    }
   ],
   "source": [
    "nome='octano'\n",
    "octano['C']"
   ]
  },
  {
   "cell_type": "markdown",
   "metadata": {},
   "source": []
  },
  {
   "cell_type": "markdown",
   "metadata": {},
   "source": []
  },
  {
   "cell_type": "markdown",
   "metadata": {},
   "source": [
    "o['A]"
   ]
  },
  {
   "cell_type": "markdown",
   "metadata": {},
   "source": [
    "## Parámetros de **Antoine** para psat(T), temperatura de fervura normal (Tb) e calort de vaporización ∆H<sub>vap</sub>(Tb) para varios hicrocarburos (log10(psat[bar])=A-B/(T[K]+C) Tb[K] ∆vapHb [J/mol]). \n",
    "\n",
    "| **Nome** | **Fórmula** |  **A**  | **B** | **C** | **T<sub>b</sub> (K)** | **∆H<sub>vap</sub> (J/mol)** |   \n",
    "|:------------|:-----------------------------|--------:|--------:|-------:|-------:|------:|  \n",
    "| Propano     | C<sub>2</sub>H<sub>6</sub>   | 3.92828 |  803.997 | -26.11  | 231.02 | 19040 |\n",
    "| n- Pentano  | C<sub>5</sub>H<sub>12</sub>  | 3.97786 | 1064.840 | -41.136 | 309.22 | 25790 |\n",
    "| n-Hexano    | C<sub>6</sub>H<sub>14</sub>  | 4.00139 | 1170.875 | -48.833 | 341.88 | 28850 |  \n",
    "| Ciclohexano | C<sub>6</sub>H<sub>12</sub>  | 3.93002 | 1182.774 | -52.532 | 353.93 |  9970 |  \n",
    "| n-Octano    | C<sub>8</sub>H<sub>18</sub>  | 4.05075 | 1356.360 | -63.515 | 398.82 | 34410 |  \n",
    "| Metanol     | CH<sub>3</sub>OH             | 5.20277 | 1580.080 | -33.650 | 337.69 | 35210 |  \n",
    "| Auga        | H<sub>2</sub>O               | 5.11564 | 1687.537 | -42.980 | 373.15 | 40660 |  \n",
    "| Amoníaco    | NH<sub>3</sub>               | 4.48540 |  926.132 | -32.980 | 239.82 | 23350 |  \n",
    "| Dodecano    | C<sub>12</sub>H<sub>26</sub> | 4.12285 | 1639.270 | -91.310 | 489.48 | 43400 |   \n",
    "| Benceno     | C<sub>6</sub>H<sub>5</sub>   | 3.98523 | 1184.24  | -55.578 | 353.24 | 30720 |  \n",
    "| Tolueno     | C<sub>6</sub>H<sub>5</sub>   | 4.05043 | 1327.62  | -55.525 | 383.79 | 33180 |\n"
   ]
  },
  {
   "cell_type": "code",
   "execution_count": 20,
   "metadata": {},
   "outputs": [
    {
     "name": "stdout",
     "output_type": "stream",
     "text": [
      "0 octano\n",
      "1 hexano\n",
      "2 benceno\n"
     ]
    }
   ],
   "source": [
    "compostos = ['octano','hexano','benceno']\n",
    "for i,composto in enumerate(compostos):\n",
    "    print(i,composto)\n"
   ]
  }
 ],
 "metadata": {
  "kernelspec": {
   "display_name": ".venv",
   "language": "python",
   "name": "python3"
  },
  "language_info": {
   "codemirror_mode": {
    "name": "ipython",
    "version": 3
   },
   "file_extension": ".py",
   "mimetype": "text/x-python",
   "name": "python",
   "nbconvert_exporter": "python",
   "pygments_lexer": "ipython3",
   "version": "3.10.13"
  }
 },
 "nbformat": 4,
 "nbformat_minor": 2
}
